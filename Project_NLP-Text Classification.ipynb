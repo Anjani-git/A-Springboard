{
 "cells": [
  {
   "cell_type": "code",
   "execution_count": 125,
   "metadata": {},
   "outputs": [],
   "source": [
    "import warnings\n",
    "warnings.filterwarnings('ignore')\n",
    "import os\n"
   ]
  },
  {
   "cell_type": "markdown",
   "metadata": {},
   "source": [
    "# In this project we are analysing a dataset where user response is captured and analysing those comments (text analysis)\n",
    "we will get to to know if the user is happy with the hotel service or not happy."
   ]
  },
  {
   "cell_type": "code",
   "execution_count": 126,
   "metadata": {},
   "outputs": [],
   "source": [
    "import pandas as pd\n",
    "reviewedDf=pd.read_csv('train.csv')"
   ]
  },
  {
   "cell_type": "code",
   "execution_count": 127,
   "metadata": {},
   "outputs": [
    {
     "data": {
      "text/html": [
       "<div>\n",
       "<style scoped>\n",
       "    .dataframe tbody tr th:only-of-type {\n",
       "        vertical-align: middle;\n",
       "    }\n",
       "\n",
       "    .dataframe tbody tr th {\n",
       "        vertical-align: top;\n",
       "    }\n",
       "\n",
       "    .dataframe thead th {\n",
       "        text-align: right;\n",
       "    }\n",
       "</style>\n",
       "<table border=\"1\" class=\"dataframe\">\n",
       "  <thead>\n",
       "    <tr style=\"text-align: right;\">\n",
       "      <th></th>\n",
       "      <th>User_ID</th>\n",
       "      <th>Description</th>\n",
       "      <th>Browser_Used</th>\n",
       "      <th>Device_Used</th>\n",
       "      <th>Is_Response</th>\n",
       "    </tr>\n",
       "  </thead>\n",
       "  <tbody>\n",
       "    <tr>\n",
       "      <th>0</th>\n",
       "      <td>id10326</td>\n",
       "      <td>The room was kind of clean but had a VERY stro...</td>\n",
       "      <td>Edge</td>\n",
       "      <td>Mobile</td>\n",
       "      <td>not happy</td>\n",
       "    </tr>\n",
       "    <tr>\n",
       "      <th>1</th>\n",
       "      <td>id10327</td>\n",
       "      <td>I stayed at the Crown Plaza April -- - April -...</td>\n",
       "      <td>Internet Explorer</td>\n",
       "      <td>Mobile</td>\n",
       "      <td>not happy</td>\n",
       "    </tr>\n",
       "    <tr>\n",
       "      <th>2</th>\n",
       "      <td>id10328</td>\n",
       "      <td>I booked this hotel through Hotwire at the low...</td>\n",
       "      <td>Mozilla</td>\n",
       "      <td>Tablet</td>\n",
       "      <td>not happy</td>\n",
       "    </tr>\n",
       "    <tr>\n",
       "      <th>3</th>\n",
       "      <td>id10329</td>\n",
       "      <td>Stayed here with husband and sons on the way t...</td>\n",
       "      <td>InternetExplorer</td>\n",
       "      <td>Desktop</td>\n",
       "      <td>happy</td>\n",
       "    </tr>\n",
       "    <tr>\n",
       "      <th>4</th>\n",
       "      <td>id10330</td>\n",
       "      <td>My girlfriends and I stayed here to celebrate ...</td>\n",
       "      <td>Edge</td>\n",
       "      <td>Tablet</td>\n",
       "      <td>not happy</td>\n",
       "    </tr>\n",
       "    <tr>\n",
       "      <th>...</th>\n",
       "      <td>...</td>\n",
       "      <td>...</td>\n",
       "      <td>...</td>\n",
       "      <td>...</td>\n",
       "      <td>...</td>\n",
       "    </tr>\n",
       "    <tr>\n",
       "      <th>38927</th>\n",
       "      <td>id49253</td>\n",
       "      <td>We arrived late at night and walked in to a ch...</td>\n",
       "      <td>Edge</td>\n",
       "      <td>Desktop</td>\n",
       "      <td>happy</td>\n",
       "    </tr>\n",
       "    <tr>\n",
       "      <th>38928</th>\n",
       "      <td>id49254</td>\n",
       "      <td>The only positive impression is location and p...</td>\n",
       "      <td>InternetExplorer</td>\n",
       "      <td>Mobile</td>\n",
       "      <td>not happy</td>\n",
       "    </tr>\n",
       "    <tr>\n",
       "      <th>38929</th>\n",
       "      <td>id49255</td>\n",
       "      <td>Traveling with friends for shopping and a show...</td>\n",
       "      <td>Firefox</td>\n",
       "      <td>Mobile</td>\n",
       "      <td>not happy</td>\n",
       "    </tr>\n",
       "    <tr>\n",
       "      <th>38930</th>\n",
       "      <td>id49256</td>\n",
       "      <td>The experience was just ok. We paid extra for ...</td>\n",
       "      <td>Chrome</td>\n",
       "      <td>Desktop</td>\n",
       "      <td>not happy</td>\n",
       "    </tr>\n",
       "    <tr>\n",
       "      <th>38931</th>\n",
       "      <td>id49257</td>\n",
       "      <td>The Westin is a wonderfully restored grande da...</td>\n",
       "      <td>Mozilla</td>\n",
       "      <td>Desktop</td>\n",
       "      <td>happy</td>\n",
       "    </tr>\n",
       "  </tbody>\n",
       "</table>\n",
       "<p>38932 rows × 5 columns</p>\n",
       "</div>"
      ],
      "text/plain": [
       "       User_ID                                        Description  \\\n",
       "0      id10326  The room was kind of clean but had a VERY stro...   \n",
       "1      id10327  I stayed at the Crown Plaza April -- - April -...   \n",
       "2      id10328  I booked this hotel through Hotwire at the low...   \n",
       "3      id10329  Stayed here with husband and sons on the way t...   \n",
       "4      id10330  My girlfriends and I stayed here to celebrate ...   \n",
       "...        ...                                                ...   \n",
       "38927  id49253  We arrived late at night and walked in to a ch...   \n",
       "38928  id49254  The only positive impression is location and p...   \n",
       "38929  id49255  Traveling with friends for shopping and a show...   \n",
       "38930  id49256  The experience was just ok. We paid extra for ...   \n",
       "38931  id49257  The Westin is a wonderfully restored grande da...   \n",
       "\n",
       "            Browser_Used Device_Used Is_Response  \n",
       "0                   Edge      Mobile   not happy  \n",
       "1      Internet Explorer      Mobile   not happy  \n",
       "2                Mozilla      Tablet   not happy  \n",
       "3       InternetExplorer     Desktop       happy  \n",
       "4                   Edge      Tablet   not happy  \n",
       "...                  ...         ...         ...  \n",
       "38927               Edge     Desktop       happy  \n",
       "38928   InternetExplorer      Mobile   not happy  \n",
       "38929            Firefox      Mobile   not happy  \n",
       "38930             Chrome     Desktop   not happy  \n",
       "38931            Mozilla     Desktop       happy  \n",
       "\n",
       "[38932 rows x 5 columns]"
      ]
     },
     "execution_count": 127,
     "metadata": {},
     "output_type": "execute_result"
    }
   ],
   "source": [
    "reviewedDf"
   ]
  },
  {
   "cell_type": "markdown",
   "metadata": {},
   "source": [
    "Exploratory Data Analysis"
   ]
  },
  {
   "cell_type": "code",
   "execution_count": 128,
   "metadata": {},
   "outputs": [
    {
     "data": {
      "text/plain": [
       "(38932, 5)"
      ]
     },
     "execution_count": 128,
     "metadata": {},
     "output_type": "execute_result"
    }
   ],
   "source": [
    "reviewedDf.shape"
   ]
  },
  {
   "cell_type": "code",
   "execution_count": 129,
   "metadata": {},
   "outputs": [
    {
     "name": "stdout",
     "output_type": "stream",
     "text": [
      "<class 'pandas.core.frame.DataFrame'>\n",
      "RangeIndex: 38932 entries, 0 to 38931\n",
      "Data columns (total 5 columns):\n",
      " #   Column        Non-Null Count  Dtype \n",
      "---  ------        --------------  ----- \n",
      " 0   User_ID       38932 non-null  object\n",
      " 1   Description   38932 non-null  object\n",
      " 2   Browser_Used  38932 non-null  object\n",
      " 3   Device_Used   38932 non-null  object\n",
      " 4   Is_Response   38932 non-null  object\n",
      "dtypes: object(5)\n",
      "memory usage: 1.5+ MB\n"
     ]
    }
   ],
   "source": [
    "reviewedDf.info()"
   ]
  },
  {
   "cell_type": "markdown",
   "metadata": {},
   "source": [
    "Is_Response column will be our target variable , analysing which we will get to the know the response. And whether a review is a positive or negative.\n"
   ]
  },
  {
   "cell_type": "code",
   "execution_count": 130,
   "metadata": {},
   "outputs": [
    {
     "data": {
      "text/html": [
       "<div>\n",
       "<style scoped>\n",
       "    .dataframe tbody tr th:only-of-type {\n",
       "        vertical-align: middle;\n",
       "    }\n",
       "\n",
       "    .dataframe tbody tr th {\n",
       "        vertical-align: top;\n",
       "    }\n",
       "\n",
       "    .dataframe thead th {\n",
       "        text-align: right;\n",
       "    }\n",
       "</style>\n",
       "<table border=\"1\" class=\"dataframe\">\n",
       "  <thead>\n",
       "    <tr style=\"text-align: right;\">\n",
       "      <th></th>\n",
       "      <th>count</th>\n",
       "      <th>unique</th>\n",
       "      <th>top</th>\n",
       "      <th>freq</th>\n",
       "    </tr>\n",
       "  </thead>\n",
       "  <tbody>\n",
       "    <tr>\n",
       "      <th>User_ID</th>\n",
       "      <td>38932</td>\n",
       "      <td>38932</td>\n",
       "      <td>id48748</td>\n",
       "      <td>1</td>\n",
       "    </tr>\n",
       "    <tr>\n",
       "      <th>Description</th>\n",
       "      <td>38932</td>\n",
       "      <td>38932</td>\n",
       "      <td>We chose this hotel-motel in part because of t...</td>\n",
       "      <td>1</td>\n",
       "    </tr>\n",
       "    <tr>\n",
       "      <th>Browser_Used</th>\n",
       "      <td>38932</td>\n",
       "      <td>11</td>\n",
       "      <td>Firefox</td>\n",
       "      <td>7367</td>\n",
       "    </tr>\n",
       "    <tr>\n",
       "      <th>Device_Used</th>\n",
       "      <td>38932</td>\n",
       "      <td>3</td>\n",
       "      <td>Desktop</td>\n",
       "      <td>15026</td>\n",
       "    </tr>\n",
       "    <tr>\n",
       "      <th>Is_Response</th>\n",
       "      <td>38932</td>\n",
       "      <td>2</td>\n",
       "      <td>happy</td>\n",
       "      <td>26521</td>\n",
       "    </tr>\n",
       "  </tbody>\n",
       "</table>\n",
       "</div>"
      ],
      "text/plain": [
       "              count unique                                                top  \\\n",
       "User_ID       38932  38932                                            id48748   \n",
       "Description   38932  38932  We chose this hotel-motel in part because of t...   \n",
       "Browser_Used  38932     11                                            Firefox   \n",
       "Device_Used   38932      3                                            Desktop   \n",
       "Is_Response   38932      2                                              happy   \n",
       "\n",
       "               freq  \n",
       "User_ID           1  \n",
       "Description       1  \n",
       "Browser_Used   7367  \n",
       "Device_Used   15026  \n",
       "Is_Response   26521  "
      ]
     },
     "execution_count": 130,
     "metadata": {},
     "output_type": "execute_result"
    }
   ],
   "source": [
    "reviewedDf.describe().transpose()"
   ]
  },
  {
   "cell_type": "markdown",
   "metadata": {},
   "source": [
    "# DATA CLEANING"
   ]
  },
  {
   "cell_type": "code",
   "execution_count": 131,
   "metadata": {},
   "outputs": [
    {
     "data": {
      "text/plain": [
       "User_ID         0\n",
       "Description     0\n",
       "Browser_Used    0\n",
       "Device_Used     0\n",
       "Is_Response     0\n",
       "dtype: int64"
      ]
     },
     "execution_count": 131,
     "metadata": {},
     "output_type": "execute_result"
    }
   ],
   "source": [
    "\n",
    "reviewedDf.isnull().sum()"
   ]
  },
  {
   "cell_type": "code",
   "execution_count": 132,
   "metadata": {},
   "outputs": [],
   "source": [
    "count=reviewedDf.isnull().sum().sort_values(ascending=False)"
   ]
  },
  {
   "cell_type": "code",
   "execution_count": 133,
   "metadata": {},
   "outputs": [],
   "source": [
    "percentage= (reviewedDf.isnull().sum()/len(reviewedDf)*100).sort_values(ascending=False)"
   ]
  },
  {
   "cell_type": "code",
   "execution_count": 134,
   "metadata": {},
   "outputs": [],
   "source": [
    "missing_data=pd.concat([count,percentage],axis=1,\n",
    "                       keys=['Count','Percentage'])"
   ]
  },
  {
   "cell_type": "code",
   "execution_count": 135,
   "metadata": {},
   "outputs": [
    {
     "data": {
      "text/html": [
       "<div>\n",
       "<style scoped>\n",
       "    .dataframe tbody tr th:only-of-type {\n",
       "        vertical-align: middle;\n",
       "    }\n",
       "\n",
       "    .dataframe tbody tr th {\n",
       "        vertical-align: top;\n",
       "    }\n",
       "\n",
       "    .dataframe thead th {\n",
       "        text-align: right;\n",
       "    }\n",
       "</style>\n",
       "<table border=\"1\" class=\"dataframe\">\n",
       "  <thead>\n",
       "    <tr style=\"text-align: right;\">\n",
       "      <th></th>\n",
       "      <th>Count</th>\n",
       "      <th>Percentage</th>\n",
       "    </tr>\n",
       "  </thead>\n",
       "  <tbody>\n",
       "    <tr>\n",
       "      <th>Is_Response</th>\n",
       "      <td>0</td>\n",
       "      <td>0.0</td>\n",
       "    </tr>\n",
       "    <tr>\n",
       "      <th>Device_Used</th>\n",
       "      <td>0</td>\n",
       "      <td>0.0</td>\n",
       "    </tr>\n",
       "    <tr>\n",
       "      <th>Browser_Used</th>\n",
       "      <td>0</td>\n",
       "      <td>0.0</td>\n",
       "    </tr>\n",
       "    <tr>\n",
       "      <th>Description</th>\n",
       "      <td>0</td>\n",
       "      <td>0.0</td>\n",
       "    </tr>\n",
       "    <tr>\n",
       "      <th>User_ID</th>\n",
       "      <td>0</td>\n",
       "      <td>0.0</td>\n",
       "    </tr>\n",
       "  </tbody>\n",
       "</table>\n",
       "</div>"
      ],
      "text/plain": [
       "              Count  Percentage\n",
       "Is_Response       0         0.0\n",
       "Device_Used       0         0.0\n",
       "Browser_Used      0         0.0\n",
       "Description       0         0.0\n",
       "User_ID           0         0.0"
      ]
     },
     "execution_count": 135,
     "metadata": {},
     "output_type": "execute_result"
    }
   ],
   "source": [
    "missing_data"
   ]
  },
  {
   "cell_type": "code",
   "execution_count": 136,
   "metadata": {},
   "outputs": [],
   "source": [
    "import matplotlib.pyplot as plt"
   ]
  },
  {
   "cell_type": "code",
   "execution_count": 137,
   "metadata": {},
   "outputs": [
    {
     "data": {
      "text/plain": [
       "happy        26521\n",
       "not happy    12411\n",
       "Name: Is_Response, dtype: int64"
      ]
     },
     "execution_count": 137,
     "metadata": {},
     "output_type": "execute_result"
    }
   ],
   "source": [
    "reviewedDf['Is_Response'].value_counts()"
   ]
  },
  {
   "cell_type": "code",
   "execution_count": 138,
   "metadata": {},
   "outputs": [
    {
     "data": {
      "text/plain": [
       "Text(0.5, 1.0, 'Percentage Distribution by review type')"
      ]
     },
     "execution_count": 138,
     "metadata": {},
     "output_type": "execute_result"
    },
    {
     "data": {
      "image/png": "[encoded data removed]",
      "text/plain": [
       "<Figure size 432x288 with 1 Axes>"
      ]
     },
     "metadata": {
      "needs_background": "light"
     },
     "output_type": "display_data"
    }
   ],
   "source": [
    "reviewedDf['Is_Response'].value_counts().plot(kind='bar')\n",
    "plt.title('Percentage Distribution by review type')"
   ]
  },
  {
   "cell_type": "code",
   "execution_count": 250,
   "metadata": {},
   "outputs": [
    {
     "data": {
      "image/png": "[encoded data removed]",
      "text/plain": [
       "<Figure size 432x288 with 1 Axes>"
      ]
     },
     "metadata": {
      "needs_background": "light"
     },
     "output_type": "display_data"
    }
   ],
   "source": [
    "#create a word cloud on the user_response.\n",
    "\n",
    "from wordcloud import WordCloud, STOPWORDS, ImageColorGenerator\n",
    "text = reviewedDf.Is_Response[0]\n",
    "\n",
    "wordcloud = WordCloud(max_words=100,background_color=\"blue\").generate(text)\n",
    "\n",
    "# Display the generated image:\n",
    "plt.imshow(wordcloud, interpolation='bilinear')\n",
    "plt.axis(\"off\")\n",
    "plt.show()"
   ]
  },
  {
   "cell_type": "code",
   "execution_count": 139,
   "metadata": {},
   "outputs": [],
   "source": [
    "reviewedDf.drop(columns=['User_ID','Browser_Used','Device_Used'],inplace=True)"
   ]
  },
  {
   "cell_type": "code",
   "execution_count": 140,
   "metadata": {},
   "outputs": [],
   "source": [
    "import re\n",
    "import string"
   ]
  },
  {
   "cell_type": "code",
   "execution_count": 141,
   "metadata": {},
   "outputs": [],
   "source": [
    "#cleaning of data, unwanted texts\n"
   ]
  },
  {
   "cell_type": "code",
   "execution_count": 142,
   "metadata": {},
   "outputs": [],
   "source": [
    "def text_clean(text):\n",
    "    text=text.lower()\n",
    "    text= re.sub('\\[.*?\\]','',text)\n",
    "    text=re.sub('[%s]'%re.escape(string.punctuation),'',text)\n",
    "    text=re.sub('\\w*\\d\\w*','',text)\n",
    "    return text"
   ]
  },
  {
   "cell_type": "code",
   "execution_count": 143,
   "metadata": {},
   "outputs": [],
   "source": [
    "cleaned_1=lambda x:text_clean(x)"
   ]
  },
  {
   "cell_type": "code",
   "execution_count": 144,
   "metadata": {},
   "outputs": [],
   "source": [
    "#creating a new col with cleaned desc\n",
    "reviewedDf['cleaned_description']= pd.DataFrame(reviewedDf.Description.apply(cleaned_1))"
   ]
  },
  {
   "cell_type": "code",
   "execution_count": 145,
   "metadata": {},
   "outputs": [
    {
     "data": {
      "text/html": [
       "<div>\n",
       "<style scoped>\n",
       "    .dataframe tbody tr th:only-of-type {\n",
       "        vertical-align: middle;\n",
       "    }\n",
       "\n",
       "    .dataframe tbody tr th {\n",
       "        vertical-align: top;\n",
       "    }\n",
       "\n",
       "    .dataframe thead th {\n",
       "        text-align: right;\n",
       "    }\n",
       "</style>\n",
       "<table border=\"1\" class=\"dataframe\">\n",
       "  <thead>\n",
       "    <tr style=\"text-align: right;\">\n",
       "      <th></th>\n",
       "      <th>Description</th>\n",
       "      <th>Is_Response</th>\n",
       "      <th>cleaned_description</th>\n",
       "    </tr>\n",
       "  </thead>\n",
       "  <tbody>\n",
       "    <tr>\n",
       "      <th>0</th>\n",
       "      <td>The room was kind of clean but had a VERY stro...</td>\n",
       "      <td>not happy</td>\n",
       "      <td>the room was kind of clean but had a very stro...</td>\n",
       "    </tr>\n",
       "    <tr>\n",
       "      <th>1</th>\n",
       "      <td>I stayed at the Crown Plaza April -- - April -...</td>\n",
       "      <td>not happy</td>\n",
       "      <td>i stayed at the crown plaza april   april   th...</td>\n",
       "    </tr>\n",
       "    <tr>\n",
       "      <th>2</th>\n",
       "      <td>I booked this hotel through Hotwire at the low...</td>\n",
       "      <td>not happy</td>\n",
       "      <td>i booked this hotel through hotwire at the low...</td>\n",
       "    </tr>\n",
       "    <tr>\n",
       "      <th>3</th>\n",
       "      <td>Stayed here with husband and sons on the way t...</td>\n",
       "      <td>happy</td>\n",
       "      <td>stayed here with husband and sons on the way t...</td>\n",
       "    </tr>\n",
       "    <tr>\n",
       "      <th>4</th>\n",
       "      <td>My girlfriends and I stayed here to celebrate ...</td>\n",
       "      <td>not happy</td>\n",
       "      <td>my girlfriends and i stayed here to celebrate ...</td>\n",
       "    </tr>\n",
       "  </tbody>\n",
       "</table>\n",
       "</div>"
      ],
      "text/plain": [
       "                                         Description Is_Response  \\\n",
       "0  The room was kind of clean but had a VERY stro...   not happy   \n",
       "1  I stayed at the Crown Plaza April -- - April -...   not happy   \n",
       "2  I booked this hotel through Hotwire at the low...   not happy   \n",
       "3  Stayed here with husband and sons on the way t...       happy   \n",
       "4  My girlfriends and I stayed here to celebrate ...   not happy   \n",
       "\n",
       "                                 cleaned_description  \n",
       "0  the room was kind of clean but had a very stro...  \n",
       "1  i stayed at the crown plaza april   april   th...  \n",
       "2  i booked this hotel through hotwire at the low...  \n",
       "3  stayed here with husband and sons on the way t...  \n",
       "4  my girlfriends and i stayed here to celebrate ...  "
      ]
     },
     "execution_count": 145,
     "metadata": {},
     "output_type": "execute_result"
    }
   ],
   "source": [
    "reviewedDf.head()"
   ]
  },
  {
   "cell_type": "code",
   "execution_count": 146,
   "metadata": {},
   "outputs": [],
   "source": [
    "# next level of cleaning\n",
    "def clean_text_1(text):\n",
    "    text=re.sub('\"\"',' ',text)\n",
    "    text=re.sub(\"''\",'',text)\n",
    "    text=re.sub('\\n','',text)\n",
    "    return text\n",
    "cleaned_2=lambda x:clean_text_1(x)"
   ]
  },
  {
   "cell_type": "code",
   "execution_count": 147,
   "metadata": {},
   "outputs": [],
   "source": [
    "##creating a new col with more cleaned desc\n",
    "reviewedDf['cleaned_description_new']= pd.DataFrame(reviewedDf.cleaned_description.apply(cleaned_2))"
   ]
  },
  {
   "cell_type": "code",
   "execution_count": 148,
   "metadata": {},
   "outputs": [
    {
     "data": {
      "text/html": [
       "<div>\n",
       "<style scoped>\n",
       "    .dataframe tbody tr th:only-of-type {\n",
       "        vertical-align: middle;\n",
       "    }\n",
       "\n",
       "    .dataframe tbody tr th {\n",
       "        vertical-align: top;\n",
       "    }\n",
       "\n",
       "    .dataframe thead th {\n",
       "        text-align: right;\n",
       "    }\n",
       "</style>\n",
       "<table border=\"1\" class=\"dataframe\">\n",
       "  <thead>\n",
       "    <tr style=\"text-align: right;\">\n",
       "      <th></th>\n",
       "      <th>Description</th>\n",
       "      <th>Is_Response</th>\n",
       "      <th>cleaned_description</th>\n",
       "      <th>cleaned_description_new</th>\n",
       "    </tr>\n",
       "  </thead>\n",
       "  <tbody>\n",
       "    <tr>\n",
       "      <th>0</th>\n",
       "      <td>The room was kind of clean but had a VERY stro...</td>\n",
       "      <td>not happy</td>\n",
       "      <td>the room was kind of clean but had a very stro...</td>\n",
       "      <td>the room was kind of clean but had a very stro...</td>\n",
       "    </tr>\n",
       "    <tr>\n",
       "      <th>1</th>\n",
       "      <td>I stayed at the Crown Plaza April -- - April -...</td>\n",
       "      <td>not happy</td>\n",
       "      <td>i stayed at the crown plaza april   april   th...</td>\n",
       "      <td>i stayed at the crown plaza april   april   th...</td>\n",
       "    </tr>\n",
       "    <tr>\n",
       "      <th>2</th>\n",
       "      <td>I booked this hotel through Hotwire at the low...</td>\n",
       "      <td>not happy</td>\n",
       "      <td>i booked this hotel through hotwire at the low...</td>\n",
       "      <td>i booked this hotel through hotwire at the low...</td>\n",
       "    </tr>\n",
       "    <tr>\n",
       "      <th>3</th>\n",
       "      <td>Stayed here with husband and sons on the way t...</td>\n",
       "      <td>happy</td>\n",
       "      <td>stayed here with husband and sons on the way t...</td>\n",
       "      <td>stayed here with husband and sons on the way t...</td>\n",
       "    </tr>\n",
       "    <tr>\n",
       "      <th>4</th>\n",
       "      <td>My girlfriends and I stayed here to celebrate ...</td>\n",
       "      <td>not happy</td>\n",
       "      <td>my girlfriends and i stayed here to celebrate ...</td>\n",
       "      <td>my girlfriends and i stayed here to celebrate ...</td>\n",
       "    </tr>\n",
       "  </tbody>\n",
       "</table>\n",
       "</div>"
      ],
      "text/plain": [
       "                                         Description Is_Response  \\\n",
       "0  The room was kind of clean but had a VERY stro...   not happy   \n",
       "1  I stayed at the Crown Plaza April -- - April -...   not happy   \n",
       "2  I booked this hotel through Hotwire at the low...   not happy   \n",
       "3  Stayed here with husband and sons on the way t...       happy   \n",
       "4  My girlfriends and I stayed here to celebrate ...   not happy   \n",
       "\n",
       "                                 cleaned_description  \\\n",
       "0  the room was kind of clean but had a very stro...   \n",
       "1  i stayed at the crown plaza april   april   th...   \n",
       "2  i booked this hotel through hotwire at the low...   \n",
       "3  stayed here with husband and sons on the way t...   \n",
       "4  my girlfriends and i stayed here to celebrate ...   \n",
       "\n",
       "                             cleaned_description_new  \n",
       "0  the room was kind of clean but had a very stro...  \n",
       "1  i stayed at the crown plaza april   april   th...  \n",
       "2  i booked this hotel through hotwire at the low...  \n",
       "3  stayed here with husband and sons on the way t...  \n",
       "4  my girlfriends and i stayed here to celebrate ...  "
      ]
     },
     "execution_count": 148,
     "metadata": {},
     "output_type": "execute_result"
    }
   ],
   "source": [
    "reviewedDf.head()"
   ]
  },
  {
   "cell_type": "code",
   "execution_count": 149,
   "metadata": {},
   "outputs": [
    {
     "data": {
      "text/plain": [
       "0        The room was kind of clean but had a VERY stro...\n",
       "1        I stayed at the Crown Plaza April -- - April -...\n",
       "2        I booked this hotel through Hotwire at the low...\n",
       "3        Stayed here with husband and sons on the way t...\n",
       "4        My girlfriends and I stayed here to celebrate ...\n",
       "                               ...                        \n",
       "38927    We arrived late at night and walked in to a ch...\n",
       "38928    The only positive impression is location and p...\n",
       "38929    Traveling with friends for shopping and a show...\n",
       "38930    The experience was just ok. We paid extra for ...\n",
       "38931    The Westin is a wonderfully restored grande da...\n",
       "Name: Description, Length: 38932, dtype: object"
      ]
     },
     "execution_count": 149,
     "metadata": {},
     "output_type": "execute_result"
    }
   ],
   "source": [
    "reviewedDf['Description']"
   ]
  },
  {
   "cell_type": "code",
   "execution_count": 150,
   "metadata": {},
   "outputs": [
    {
     "data": {
      "text/plain": [
       "Index(['Description', 'Is_Response', 'cleaned_description',\n",
       "       'cleaned_description_new'],\n",
       "      dtype='object')"
      ]
     },
     "execution_count": 150,
     "metadata": {},
     "output_type": "execute_result"
    }
   ],
   "source": [
    "reviewedDf.columns"
   ]
  },
  {
   "cell_type": "markdown",
   "metadata": {},
   "source": [
    "\n",
    "Next level of cleaning will have stopwords removal\n",
    "\n",
    "Data Pre-processing\n",
    "\n",
    "We will perform the following steps:\n",
    "Tokenization: Split the text into sentences and the sentences into words. Lowercase the words and remove punctuation.\n",
    "Words that have fewer than 3 characters are removed.\n",
    "All stopwords are removed.\n",
    "\n",
    "Words are lemmatized — words in third person are changed to first person and verbs in past and future tenses are changed into present.\n",
    "\n",
    "Words are stemmed — words are reduced to their root form."
   ]
  },
  {
   "cell_type": "code",
   "execution_count": 151,
   "metadata": {},
   "outputs": [
    {
     "data": {
      "text/plain": [
       "0        the room was kind of clean but had a very stro...\n",
       "1        i stayed at the crown plaza april   april   th...\n",
       "2        i booked this hotel through hotwire at the low...\n",
       "3        stayed here with husband and sons on the way t...\n",
       "4        my girlfriends and i stayed here to celebrate ...\n",
       "                               ...                        \n",
       "38927    we arrived late at night and walked in to a ch...\n",
       "38928    the only positive impression is location and p...\n",
       "38929    traveling with friends for shopping and a show...\n",
       "38930    the experience was just ok we paid extra for a...\n",
       "38931    the westin is a wonderfully restored grande da...\n",
       "Name: cleaned_description_new, Length: 38932, dtype: object"
      ]
     },
     "execution_count": 151,
     "metadata": {},
     "output_type": "execute_result"
    }
   ],
   "source": [
    "reviewedDf['cleaned_description_new'] = reviewedDf['cleaned_description_new'].str.lower()\n",
    "reviewedDf['cleaned_description_new']"
   ]
  },
  {
   "cell_type": "code",
   "execution_count": 154,
   "metadata": {},
   "outputs": [
    {
     "name": "stderr",
     "output_type": "stream",
     "text": [
      "[nltk_data] Downloading package stopwords to\n",
      "[nltk_data]     C:\\Users\\ankumari\\AppData\\Roaming\\nltk_data...\n",
      "[nltk_data]   Unzipping corpora\\stopwords.zip.\n"
     ]
    },
    {
     "data": {
      "text/plain": [
       "True"
      ]
     },
     "execution_count": 154,
     "metadata": {},
     "output_type": "execute_result"
    }
   ],
   "source": [
    "import nltk\n",
    "nltk.download('stopwords')"
   ]
  },
  {
   "cell_type": "code",
   "execution_count": 155,
   "metadata": {},
   "outputs": [],
   "source": [
    "from nltk.corpus import stopwords\n",
    "stop = stopwords.words('english')\n",
    "reviewedDf['Description_without_stopwords'] = reviewedDf['cleaned_description_new'].apply(lambda x: ' '.join([word for word in x.split() if word not in (stop)]))"
   ]
  },
  {
   "cell_type": "markdown",
   "metadata": {},
   "source": [
    "Now we have the column descripton where stopwords are not there and has the comparatively clean data"
   ]
  },
  {
   "cell_type": "code",
   "execution_count": 157,
   "metadata": {},
   "outputs": [
    {
     "data": {
      "text/plain": [
       "0        room kind clean strong smell dogs generally av...\n",
       "1        stayed crown plaza april april staff friendly ...\n",
       "2        booked hotel hotwire lowest price could find g...\n",
       "3        stayed husband sons way alaska cruise loved ho...\n",
       "4        girlfriends stayed celebrate th birthdays plan...\n",
       "                               ...                        \n",
       "38927    arrived late night walked checkin area complet...\n",
       "38928    positive impression location public parking op...\n",
       "38929    traveling friends shopping show location great...\n",
       "38930    experience ok paid extra view pool got view pa...\n",
       "38931    westin wonderfully restored grande dame hotel ...\n",
       "Name: Description_without_stopwords, Length: 38932, dtype: object"
      ]
     },
     "execution_count": 157,
     "metadata": {},
     "output_type": "execute_result"
    }
   ],
   "source": [
    "reviewedDf['Description_without_stopwords']"
   ]
  },
  {
   "cell_type": "code",
   "execution_count": 196,
   "metadata": {},
   "outputs": [
    {
     "name": "stderr",
     "output_type": "stream",
     "text": [
      "[nltk_data] Downloading package wordnet to\n",
      "[nltk_data]     C:\\Users\\ankumari\\AppData\\Roaming\\nltk_data...\n",
      "[nltk_data]   Package wordnet is already up-to-date!\n"
     ]
    },
    {
     "data": {
      "text/plain": [
       "True"
      ]
     },
     "execution_count": 196,
     "metadata": {},
     "output_type": "execute_result"
    }
   ],
   "source": [
    "import gensim\n",
    "from gensim.utils import simple_preprocess\n",
    "from gensim.parsing.preprocessing import STOPWORDS\n",
    "from nltk.stem import WordNetLemmatizer, SnowballStemmer\n",
    "from nltk.stem.porter import *\n",
    "import numpy as np\n",
    "np.random.seed(2018)\n",
    "import nltk\n",
    "nltk.download('wordnet')"
   ]
  },
  {
   "cell_type": "markdown",
   "metadata": {},
   "source": [
    "A function which will help in lemmetization and stemming of the variable"
   ]
  },
  {
   "cell_type": "code",
   "execution_count": 208,
   "metadata": {},
   "outputs": [],
   "source": [
    "stemmer = PorterStemmer()\n",
    "'''\n",
    "def lemmatize_stemming(text):\n",
    "    return stemmer.stem(WordNetLemmatizer().lemmatize(text, pos='v'))\n",
    "'''\n",
    "def lemmatize_stemming(text):\n",
    "    return WordNetLemmatizer().lemmatize(text, pos='v')\n",
    "def preprocess(text):\n",
    "    result = []\n",
    "    for token in gensim.utils.simple_preprocess(text):\n",
    "        if token not in gensim.parsing.preprocessing.STOPWORDS and len(token) > 3:\n",
    "            result.append(lemmatize_stemming(token))\n",
    "    return result"
   ]
  },
  {
   "cell_type": "code",
   "execution_count": 209,
   "metadata": {},
   "outputs": [
    {
     "data": {
      "text/html": [
       "<div>\n",
       "<style scoped>\n",
       "    .dataframe tbody tr th:only-of-type {\n",
       "        vertical-align: middle;\n",
       "    }\n",
       "\n",
       "    .dataframe tbody tr th {\n",
       "        vertical-align: top;\n",
       "    }\n",
       "\n",
       "    .dataframe thead th {\n",
       "        text-align: right;\n",
       "    }\n",
       "</style>\n",
       "<table border=\"1\" class=\"dataframe\">\n",
       "  <thead>\n",
       "    <tr style=\"text-align: right;\">\n",
       "      <th></th>\n",
       "      <th>Description</th>\n",
       "      <th>Is_Response</th>\n",
       "      <th>cleaned_description</th>\n",
       "      <th>cleaned_description_new</th>\n",
       "      <th>Description_without_stopwords</th>\n",
       "    </tr>\n",
       "  </thead>\n",
       "  <tbody>\n",
       "    <tr>\n",
       "      <th>0</th>\n",
       "      <td>The room was kind of clean but had a VERY stro...</td>\n",
       "      <td>not happy</td>\n",
       "      <td>the room was kind of clean but had a very stro...</td>\n",
       "      <td>the room was kind of clean but had a very stro...</td>\n",
       "      <td>room kind clean strong smell dogs generally av...</td>\n",
       "    </tr>\n",
       "    <tr>\n",
       "      <th>1</th>\n",
       "      <td>I stayed at the Crown Plaza April -- - April -...</td>\n",
       "      <td>not happy</td>\n",
       "      <td>i stayed at the crown plaza april   april   th...</td>\n",
       "      <td>i stayed at the crown plaza april   april   th...</td>\n",
       "      <td>stayed crown plaza april april staff friendly ...</td>\n",
       "    </tr>\n",
       "    <tr>\n",
       "      <th>2</th>\n",
       "      <td>I booked this hotel through Hotwire at the low...</td>\n",
       "      <td>not happy</td>\n",
       "      <td>i booked this hotel through hotwire at the low...</td>\n",
       "      <td>i booked this hotel through hotwire at the low...</td>\n",
       "      <td>booked hotel hotwire lowest price could find g...</td>\n",
       "    </tr>\n",
       "    <tr>\n",
       "      <th>3</th>\n",
       "      <td>Stayed here with husband and sons on the way t...</td>\n",
       "      <td>happy</td>\n",
       "      <td>stayed here with husband and sons on the way t...</td>\n",
       "      <td>stayed here with husband and sons on the way t...</td>\n",
       "      <td>stayed husband sons way alaska cruise loved ho...</td>\n",
       "    </tr>\n",
       "    <tr>\n",
       "      <th>4</th>\n",
       "      <td>My girlfriends and I stayed here to celebrate ...</td>\n",
       "      <td>not happy</td>\n",
       "      <td>my girlfriends and i stayed here to celebrate ...</td>\n",
       "      <td>my girlfriends and i stayed here to celebrate ...</td>\n",
       "      <td>girlfriends stayed celebrate th birthdays plan...</td>\n",
       "    </tr>\n",
       "  </tbody>\n",
       "</table>\n",
       "</div>"
      ],
      "text/plain": [
       "                                         Description Is_Response  \\\n",
       "0  The room was kind of clean but had a VERY stro...   not happy   \n",
       "1  I stayed at the Crown Plaza April -- - April -...   not happy   \n",
       "2  I booked this hotel through Hotwire at the low...   not happy   \n",
       "3  Stayed here with husband and sons on the way t...       happy   \n",
       "4  My girlfriends and I stayed here to celebrate ...   not happy   \n",
       "\n",
       "                                 cleaned_description  \\\n",
       "0  the room was kind of clean but had a very stro...   \n",
       "1  i stayed at the crown plaza april   april   th...   \n",
       "2  i booked this hotel through hotwire at the low...   \n",
       "3  stayed here with husband and sons on the way t...   \n",
       "4  my girlfriends and i stayed here to celebrate ...   \n",
       "\n",
       "                             cleaned_description_new  \\\n",
       "0  the room was kind of clean but had a very stro...   \n",
       "1  i stayed at the crown plaza april   april   th...   \n",
       "2  i booked this hotel through hotwire at the low...   \n",
       "3  stayed here with husband and sons on the way t...   \n",
       "4  my girlfriends and i stayed here to celebrate ...   \n",
       "\n",
       "                       Description_without_stopwords  \n",
       "0  room kind clean strong smell dogs generally av...  \n",
       "1  stayed crown plaza april april staff friendly ...  \n",
       "2  booked hotel hotwire lowest price could find g...  \n",
       "3  stayed husband sons way alaska cruise loved ho...  \n",
       "4  girlfriends stayed celebrate th birthdays plan...  "
      ]
     },
     "execution_count": 209,
     "metadata": {},
     "output_type": "execute_result"
    }
   ],
   "source": [
    "reviewedDf.head()"
   ]
  },
  {
   "cell_type": "code",
   "execution_count": 210,
   "metadata": {},
   "outputs": [
    {
     "data": {
      "text/html": [
       "<div>\n",
       "<style scoped>\n",
       "    .dataframe tbody tr th:only-of-type {\n",
       "        vertical-align: middle;\n",
       "    }\n",
       "\n",
       "    .dataframe tbody tr th {\n",
       "        vertical-align: top;\n",
       "    }\n",
       "\n",
       "    .dataframe thead th {\n",
       "        text-align: right;\n",
       "    }\n",
       "</style>\n",
       "<table border=\"1\" class=\"dataframe\">\n",
       "  <thead>\n",
       "    <tr style=\"text-align: right;\">\n",
       "      <th></th>\n",
       "      <th>Description</th>\n",
       "      <th>Is_Response</th>\n",
       "      <th>cleaned_description</th>\n",
       "      <th>cleaned_description_new</th>\n",
       "      <th>Description_without_stopwords</th>\n",
       "    </tr>\n",
       "  </thead>\n",
       "  <tbody>\n",
       "    <tr>\n",
       "      <th>0</th>\n",
       "      <td>The room was kind of clean but had a VERY stro...</td>\n",
       "      <td>not happy</td>\n",
       "      <td>the room was kind of clean but had a very stro...</td>\n",
       "      <td>the room was kind of clean but had a very stro...</td>\n",
       "      <td>room kind clean strong smell dogs generally av...</td>\n",
       "    </tr>\n",
       "    <tr>\n",
       "      <th>1</th>\n",
       "      <td>I stayed at the Crown Plaza April -- - April -...</td>\n",
       "      <td>not happy</td>\n",
       "      <td>i stayed at the crown plaza april   april   th...</td>\n",
       "      <td>i stayed at the crown plaza april   april   th...</td>\n",
       "      <td>stayed crown plaza april april staff friendly ...</td>\n",
       "    </tr>\n",
       "    <tr>\n",
       "      <th>2</th>\n",
       "      <td>I booked this hotel through Hotwire at the low...</td>\n",
       "      <td>not happy</td>\n",
       "      <td>i booked this hotel through hotwire at the low...</td>\n",
       "      <td>i booked this hotel through hotwire at the low...</td>\n",
       "      <td>booked hotel hotwire lowest price could find g...</td>\n",
       "    </tr>\n",
       "    <tr>\n",
       "      <th>3</th>\n",
       "      <td>Stayed here with husband and sons on the way t...</td>\n",
       "      <td>happy</td>\n",
       "      <td>stayed here with husband and sons on the way t...</td>\n",
       "      <td>stayed here with husband and sons on the way t...</td>\n",
       "      <td>stayed husband sons way alaska cruise loved ho...</td>\n",
       "    </tr>\n",
       "    <tr>\n",
       "      <th>4</th>\n",
       "      <td>My girlfriends and I stayed here to celebrate ...</td>\n",
       "      <td>not happy</td>\n",
       "      <td>my girlfriends and i stayed here to celebrate ...</td>\n",
       "      <td>my girlfriends and i stayed here to celebrate ...</td>\n",
       "      <td>girlfriends stayed celebrate th birthdays plan...</td>\n",
       "    </tr>\n",
       "  </tbody>\n",
       "</table>\n",
       "</div>"
      ],
      "text/plain": [
       "                                         Description Is_Response  \\\n",
       "0  The room was kind of clean but had a VERY stro...   not happy   \n",
       "1  I stayed at the Crown Plaza April -- - April -...   not happy   \n",
       "2  I booked this hotel through Hotwire at the low...   not happy   \n",
       "3  Stayed here with husband and sons on the way t...       happy   \n",
       "4  My girlfriends and I stayed here to celebrate ...   not happy   \n",
       "\n",
       "                                 cleaned_description  \\\n",
       "0  the room was kind of clean but had a very stro...   \n",
       "1  i stayed at the crown plaza april   april   th...   \n",
       "2  i booked this hotel through hotwire at the low...   \n",
       "3  stayed here with husband and sons on the way t...   \n",
       "4  my girlfriends and i stayed here to celebrate ...   \n",
       "\n",
       "                             cleaned_description_new  \\\n",
       "0  the room was kind of clean but had a very stro...   \n",
       "1  i stayed at the crown plaza april   april   th...   \n",
       "2  i booked this hotel through hotwire at the low...   \n",
       "3  stayed here with husband and sons on the way t...   \n",
       "4  my girlfriends and i stayed here to celebrate ...   \n",
       "\n",
       "                       Description_without_stopwords  \n",
       "0  room kind clean strong smell dogs generally av...  \n",
       "1  stayed crown plaza april april staff friendly ...  \n",
       "2  booked hotel hotwire lowest price could find g...  \n",
       "3  stayed husband sons way alaska cruise loved ho...  \n",
       "4  girlfriends stayed celebrate th birthdays plan...  "
      ]
     },
     "execution_count": 210,
     "metadata": {},
     "output_type": "execute_result"
    }
   ],
   "source": [
    "doc=reviewedDf[:5]\n",
    "doc"
   ]
  },
  {
   "cell_type": "code",
   "execution_count": 211,
   "metadata": {},
   "outputs": [
    {
     "data": {
      "text/plain": [
       "'room kind clean strong smell dogs generally average ok overnight stay youre fussy would consider staying price right breakfast free better nothing'"
      ]
     },
     "execution_count": 211,
     "metadata": {},
     "output_type": "execute_result"
    }
   ],
   "source": [
    "doc_sample = reviewedDf.iloc[0,4]\n",
    "doc_sample"
   ]
  },
  {
   "cell_type": "code",
   "execution_count": 212,
   "metadata": {},
   "outputs": [
    {
     "name": "stdout",
     "output_type": "stream",
     "text": [
      "['room', 'kind', 'clean', 'strong', 'smell', 'dogs', 'generally', 'average', 'ok', 'overnight', 'stay', 'youre', 'fussy', 'would', 'consider', 'staying', 'price', 'right', 'breakfast', 'free', 'better', 'nothing']\n",
      "\n",
      "\n",
      " tokenized and lemmatized document: \n",
      "['room', 'kind', 'clean', 'strong', 'smell', 'dog', 'generally', 'average', 'overnight', 'stay', 'youre', 'fussy', 'consider', 'stay', 'price', 'right', 'breakfast', 'free', 'better']\n"
     ]
    }
   ],
   "source": [
    "#doc_sample = reviewedDf.iloc[[0],[4]] [0][0]\n",
    "words = []\n",
    "for word in doc_sample.split(' '):\n",
    "    words.append(word)\n",
    "print(words)\n",
    "print('\\n\\n tokenized and lemmatized document: ')\n",
    "print(preprocess(doc_sample))"
   ]
  },
  {
   "cell_type": "markdown",
   "metadata": {},
   "source": [
    "Here we can see words are lemmetized where words are being converted into its root word. Stemming can also be done where words are converted\n",
    "int its nearest word which may not have any meaning and is least recommended when compared to lemmetization"
   ]
  },
  {
   "cell_type": "code",
   "execution_count": 213,
   "metadata": {},
   "outputs": [],
   "source": [
    "vectorizer = TfidfVectorizer()\n",
    "X = vectorizer.fit_transform(reviewedDf['Description_without_stopwords'])"
   ]
  },
  {
   "cell_type": "code",
   "execution_count": 214,
   "metadata": {},
   "outputs": [
    {
     "name": "stdout",
     "output_type": "stream",
     "text": [
      "  (0, 52348)\t0.1885690030263641\n",
      "  (0, 8158)\t0.16509787128609335\n",
      "  (0, 30729)\t0.14168058278669082\n",
      "  (0, 9793)\t0.11813324429547957\n",
      "  (0, 64954)\t0.14904102693937077\n",
      "  (0, 59640)\t0.153471065132082\n",
      "  (0, 73726)\t0.16540686780180902\n",
      "  (0, 17004)\t0.25923463188516516\n",
      "  (0, 87440)\t0.1000667986971306\n",
      "  (0, 31745)\t0.37566808724422307\n",
      "  (0, 88202)\t0.2159920871636967\n",
      "  (0, 73630)\t0.0888516833804773\n",
      "  (0, 55082)\t0.2669121096603803\n",
      "  (0, 53410)\t0.2015913184123856\n",
      "  (0, 5370)\t0.22406832289759715\n",
      "  (0, 32185)\t0.2742455622216843\n",
      "  (0, 22542)\t0.323201351777566\n",
      "  (0, 70927)\t0.24300984867530925\n",
      "  (0, 74664)\t0.3066666549006464\n",
      "  (0, 14528)\t0.10525063648343551\n",
      "  (0, 42136)\t0.21444192870275222\n",
      "  (0, 65482)\t0.07225732753350379\n",
      "  (1, 83137)\t0.0920469105944917\n",
      "  (1, 15648)\t0.07028910268053193\n",
      "  (1, 10914)\t0.06203818019602065\n",
      "  :\t:\n",
      "  (38930, 83799)\t0.15956281378038678\n",
      "  (38930, 55803)\t0.07889461097942706\n",
      "  (38930, 65742)\t0.05167739691322474\n",
      "  (38930, 71052)\t0.14429427502703623\n",
      "  (38930, 33147)\t0.07590894716503037\n",
      "  (38930, 75634)\t0.09213071345817272\n",
      "  (38930, 22736)\t0.08259157765214603\n",
      "  (38930, 19443)\t0.06912703101057922\n",
      "  (38930, 58623)\t0.1693519998357117\n",
      "  (38930, 8158)\t0.08463806953518913\n",
      "  (38930, 73726)\t0.08479647780768558\n",
      "  (38930, 73630)\t0.045550163049915084\n",
      "  (38930, 53410)\t0.10334657795745393\n",
      "  (38930, 65482)\t0.03704300161211572\n",
      "  (38931, 33303)\t0.47250812966987\n",
      "  (38931, 64381)\t0.40426858410767946\n",
      "  (38931, 19214)\t0.4530156180194841\n",
      "  (38931, 86010)\t0.26592231027398877\n",
      "  (38931, 87046)\t0.3530183416951305\n",
      "  (38931, 44008)\t0.2725543598501808\n",
      "  (38931, 26824)\t0.16741263598676812\n",
      "  (38931, 40009)\t0.18820909100132496\n",
      "  (38931, 56359)\t0.20582476650018539\n",
      "  (38931, 36986)\t0.06941658684389279\n",
      "  (38931, 7433)\t0.16680879990098266\n"
     ]
    }
   ],
   "source": [
    "print(X)"
   ]
  },
  {
   "cell_type": "code",
   "execution_count": 215,
   "metadata": {},
   "outputs": [
    {
     "data": {
      "text/plain": [
       "0    [room, kind, clean, strong, smell, dog, genera...\n",
       "1    [stay, crown, plaza, april, april, staff, frie...\n",
       "2    [book, hotel, hotwire, lowest, price, desk, ma...\n",
       "3    [stay, husband, sons, alaska, cruise, love, ho...\n",
       "4    [girlfriends, stay, celebrate, birthdays, plan...\n",
       "5    [room, nice, clearly, update, recently, clean,...\n",
       "6    [husband, stay, hotel, time, fanciest, hotel, ...\n",
       "7    [wife, stay, glorious, city, expensive, little...\n",
       "8    [boyfriend, stay, fairmont, recent, trip, fran...\n",
       "9    [wonderful, staff, great, location, definately...\n",
       "Name: Description_without_stopwords, dtype: object"
      ]
     },
     "execution_count": 215,
     "metadata": {},
     "output_type": "execute_result"
    }
   ],
   "source": [
    "processed_docs = reviewedDf['Description_without_stopwords'].map(preprocess)\n",
    "processed_docs[:10]"
   ]
  },
  {
   "cell_type": "markdown",
   "metadata": {},
   "source": [
    "Bag of Words\n",
    "\n",
    "this will create a dictionary of words and number of occurance it has in the dataset"
   ]
  },
  {
   "cell_type": "code",
   "execution_count": 218,
   "metadata": {},
   "outputs": [
    {
     "name": "stdout",
     "output_type": "stream",
     "text": [
      "0 average\n",
      "1 better\n",
      "2 breakfast\n",
      "3 clean\n",
      "4 consider\n",
      "5 dog\n",
      "6 free\n",
      "7 fussy\n",
      "8 generally\n",
      "9 kind\n",
      "10 overnight\n"
     ]
    }
   ],
   "source": [
    "dictionary = gensim.corpora.Dictionary(processed_docs)\n",
    "count = 0\n",
    "for k, v in dictionary.iteritems():\n",
    "    print(k, v)\n",
    "    count += 1\n",
    "    if count > 10:\n",
    "        break"
   ]
  },
  {
   "cell_type": "code",
   "execution_count": 221,
   "metadata": {},
   "outputs": [
    {
     "data": {
      "image/png": "[encoded data removed]",
      "text/plain": [
       "<Figure size 432x288 with 1 Axes>"
      ]
     },
     "metadata": {
      "needs_background": "light"
     },
     "output_type": "display_data"
    }
   ],
   "source": [
    "# Create and generate a word cloud image:\n",
    "from wordcloud import WordCloud, STOPWORDS, ImageColorGenerator\n",
    "text = reviewedDf.Description_without_stopwords[0]\n",
    "wordcloud = WordCloud().generate(text)\n",
    "\n",
    "# Display the generated image:\n",
    "plt.imshow(wordcloud, interpolation='bilinear')\n",
    "plt.axis(\"off\")\n",
    "plt.show()"
   ]
  },
  {
   "cell_type": "code",
   "execution_count": 225,
   "metadata": {},
   "outputs": [],
   "source": [
    "bow_corpus = [dictionary.doc2bow(doc) for doc in processed_docs]"
   ]
  },
  {
   "cell_type": "code",
   "execution_count": 228,
   "metadata": {},
   "outputs": [
    {
     "name": "stdout",
     "output_type": "stream",
     "text": [
      "Word 2 (\"breakfast\") appears 1 time.\n",
      "Word 6 (\"free\") appears 2 time.\n",
      "Word 13 (\"room\") appears 3 time.\n",
      "Word 68 (\"space\") appears 1 time.\n",
      "Word 81 (\"available\") appears 1 time.\n",
      "Word 104 (\"hotel\") appears 1 time.\n",
      "Word 108 (\"location\") appears 1 time.\n",
      "Word 119 (\"park\") appears 1 time.\n",
      "Word 130 (\"view\") appears 2 time.\n",
      "Word 143 (\"needle\") appears 2 time.\n",
      "Word 152 (\"walk\") appears 1 time.\n",
      "Word 177 (\"fine\") appears 1 time.\n",
      "Word 190 (\"night\") appears 1 time.\n",
      "Word 222 (\"wonderful\") appears 1 time.\n",
      "Word 234 (\"morning\") appears 1 time.\n",
      "Word 263 (\"time\") appears 1 time.\n",
      "Word 363 (\"airport\") appears 1 time.\n",
      "Word 366 (\"arrive\") appears 1 time.\n",
      "Word 486 (\"unfortunately\") appears 1 time.\n",
      "Word 503 (\"neighborhood\") appears 1 time.\n",
      "Word 573 (\"think\") appears 1 time.\n",
      "Word 790 (\"dark\") appears 1 time.\n",
      "Word 885 (\"felt\") appears 1 time.\n",
      "Word 913 (\"choose\") appears 1 time.\n",
      "Word 949 (\"sound\") appears 1 time.\n",
      "Word 1309 (\"keep\") appears 1 time.\n",
      "Word 1445 (\"sirens\") appears 1 time.\n",
      "Word 1992 (\"awake\") appears 1 time.\n",
      "Word 2045 (\"possibly\") appears 1 time.\n",
      "Word 2147 (\"shift\") appears 1 time.\n",
      "Word 2187 (\"specifically\") appears 1 time.\n",
      "Word 2522 (\"daughter\") appears 1 time.\n",
      "Word 3384 (\"nervous\") appears 1 time.\n"
     ]
    }
   ],
   "source": [
    "bow_doc_4310 = bow_corpus[4310]\n",
    "for i in range(len(bow_doc_4310)):\n",
    "    print(\"Word {} (\\\"{}\\\") appears {} time.\".format(bow_doc_4310[i][0], \n",
    "                                               dictionary[bow_doc_4310[i][0]], \n",
    "bow_doc_4310[i][1]))"
   ]
  },
  {
   "cell_type": "markdown",
   "metadata": {},
   "source": [
    "TF-IDF\n",
    "\n",
    "tfidf provides the score of each word based on thir occurence.More the score , more the occurence."
   ]
  },
  {
   "cell_type": "code",
   "execution_count": 229,
   "metadata": {},
   "outputs": [
    {
     "name": "stdout",
     "output_type": "stream",
     "text": [
      "[(0, 0.23770448413859524),\n",
      " (1, 0.15712921585571077),\n",
      " (2, 0.0907847664753764),\n",
      " (3, 0.06962900728058088),\n",
      " (4, 0.22905448501767361),\n",
      " (5, 0.37518086926106214),\n",
      " (6, 0.12492601934626668),\n",
      " (7, 0.4480885107982859),\n",
      " (8, 0.30756098142883653),\n",
      " (9, 0.22514427675711277),\n",
      " (10, 0.2974474139904018),\n",
      " (11, 0.1236847443629668),\n",
      " (12, 0.1349056856272137),\n",
      " (13, 0.014750987774714128),\n",
      " (14, 0.2236831204166206),\n",
      " (15, 0.053009155383581114),\n",
      " (16, 0.35231620736474484),\n",
      " (17, 0.22727937083810063)]\n"
     ]
    }
   ],
   "source": [
    "from gensim import corpora, models\n",
    "tfidf = models.TfidfModel(bow_corpus)\n",
    "corpus_tfidf = tfidf[bow_corpus]\n",
    "from pprint import pprint\n",
    "for doc in corpus_tfidf:\n",
    "    pprint(doc)\n",
    "    break"
   ]
  },
  {
   "cell_type": "markdown",
   "metadata": {},
   "source": [
    "Running LDA using Bag of Words\n",
    "\n",
    "Train our lda model using gensim.models.LdaMulticore"
   ]
  },
  {
   "cell_type": "code",
   "execution_count": 231,
   "metadata": {},
   "outputs": [
    {
     "name": "stdout",
     "output_type": "stream",
     "text": [
      "Topic: 0 \n",
      "Words: 0.046*\"room\" + 0.031*\"hotel\" + 0.019*\"stay\" + 0.008*\"time\" + 0.008*\"staff\" + 0.007*\"check\" + 0.007*\"service\" + 0.007*\"night\" + 0.007*\"desk\" + 0.006*\"book\"\n",
      "Topic: 1 \n",
      "Words: 0.025*\"hotel\" + 0.022*\"room\" + 0.016*\"stay\" + 0.011*\"service\" + 0.010*\"staff\" + 0.008*\"desk\" + 0.008*\"park\" + 0.007*\"time\" + 0.007*\"pool\" + 0.007*\"nice\"\n",
      "Topic: 2 \n",
      "Words: 0.017*\"room\" + 0.010*\"great\" + 0.007*\"floor\" + 0.007*\"sofitel\" + 0.006*\"hotel\" + 0.006*\"good\" + 0.005*\"location\" + 0.005*\"nice\" + 0.005*\"stay\" + 0.004*\"service\"\n",
      "Topic: 3 \n",
      "Words: 0.014*\"memphis\" + 0.009*\"stay\" + 0.008*\"beale\" + 0.007*\"graceland\" + 0.007*\"elvis\" + 0.006*\"room\" + 0.006*\"staff\" + 0.004*\"hotel\" + 0.004*\"peabody\" + 0.004*\"great\"\n",
      "Topic: 4 \n",
      "Words: 0.026*\"breakfast\" + 0.021*\"room\" + 0.013*\"egg\" + 0.013*\"hotel\" + 0.012*\"fruit\" + 0.011*\"coffee\" + 0.010*\"waffle\" + 0.008*\"order\" + 0.008*\"stay\" + 0.008*\"cereal\"\n",
      "Topic: 5 \n",
      "Words: 0.036*\"room\" + 0.022*\"hotel\" + 0.013*\"stay\" + 0.011*\"night\" + 0.010*\"nice\" + 0.009*\"place\" + 0.009*\"bathroom\" + 0.008*\"floor\" + 0.008*\"like\" + 0.008*\"park\"\n",
      "Topic: 6 \n",
      "Words: 0.030*\"hotel\" + 0.024*\"stay\" + 0.020*\"staff\" + 0.018*\"service\" + 0.017*\"room\" + 0.014*\"great\" + 0.010*\"experience\" + 0.009*\"chicago\" + 0.009*\"love\" + 0.009*\"amaze\"\n",
      "Topic: 7 \n",
      "Words: 0.035*\"hotel\" + 0.026*\"room\" + 0.018*\"stay\" + 0.014*\"staff\" + 0.013*\"nice\" + 0.010*\"breakfast\" + 0.010*\"free\" + 0.010*\"good\" + 0.010*\"great\" + 0.009*\"walk\"\n",
      "Topic: 8 \n",
      "Words: 0.037*\"stay\" + 0.036*\"hotel\" + 0.029*\"room\" + 0.029*\"great\" + 0.020*\"location\" + 0.018*\"staff\" + 0.018*\"clean\" + 0.016*\"time\" + 0.015*\"walk\" + 0.011*\"good\"\n",
      "Topic: 9 \n",
      "Words: 0.017*\"room\" + 0.015*\"hotel\" + 0.014*\"stay\" + 0.009*\"like\" + 0.008*\"place\" + 0.008*\"go\" + 0.008*\"time\" + 0.007*\"great\" + 0.006*\"check\" + 0.006*\"want\"\n"
     ]
    }
   ],
   "source": [
    "lda_model = gensim.models.LdaMulticore(bow_corpus, num_topics=10, id2word=dictionary, passes=2, workers=2)\n",
    "\n",
    "for idx, topic in lda_model.print_topics(-1):\n",
    "    print('Topic: {} \\nWords: {}'.format(idx, topic))\n",
    "    "
   ]
  },
  {
   "cell_type": "code",
   "execution_count": 253,
   "metadata": {},
   "outputs": [
    {
     "name": "stdout",
     "output_type": "stream",
     "text": [
      "Topic: 0 Word: 0.001*\"great\" + 0.001*\"nice\" + 0.001*\"good\" + 0.001*\"location\" + 0.001*\"staff\" + 0.001*\"clean\" + 0.001*\"friendly\" + 0.001*\"time\" + 0.001*\"hotel\" + 0.001*\"stay\"\n",
      "Topic: 1 Word: 0.001*\"great\" + 0.001*\"good\" + 0.001*\"service\" + 0.001*\"nice\" + 0.001*\"location\" + 0.001*\"clean\" + 0.001*\"place\" + 0.001*\"hotel\" + 0.001*\"stay\" + 0.001*\"breakfast\"\n",
      "Topic: 2 Word: 0.005*\"great\" + 0.003*\"location\" + 0.003*\"staff\" + 0.003*\"friendly\" + 0.003*\"nice\" + 0.003*\"clean\" + 0.003*\"good\" + 0.003*\"helpful\" + 0.003*\"walk\" + 0.002*\"hotel\"\n",
      "Topic: 3 Word: 0.001*\"great\" + 0.001*\"staff\" + 0.001*\"nice\" + 0.001*\"helpful\" + 0.001*\"friendly\" + 0.001*\"clean\" + 0.001*\"good\" + 0.001*\"location\" + 0.001*\"stay\" + 0.001*\"hotel\"\n",
      "Topic: 4 Word: 0.003*\"great\" + 0.002*\"service\" + 0.002*\"staff\" + 0.002*\"nice\" + 0.002*\"stay\" + 0.002*\"hotel\" + 0.002*\"time\" + 0.002*\"breakfast\" + 0.002*\"friendly\" + 0.002*\"good\"\n",
      "Topic: 5 Word: 0.002*\"great\" + 0.001*\"nice\" + 0.001*\"good\" + 0.001*\"staff\" + 0.001*\"clean\" + 0.001*\"location\" + 0.001*\"time\" + 0.001*\"walk\" + 0.001*\"stay\" + 0.001*\"hotel\"\n",
      "Topic: 6 Word: 0.004*\"great\" + 0.003*\"good\" + 0.003*\"nice\" + 0.003*\"hotel\" + 0.003*\"time\" + 0.003*\"clean\" + 0.003*\"service\" + 0.003*\"night\" + 0.003*\"location\" + 0.003*\"staff\"\n",
      "Topic: 7 Word: 0.001*\"great\" + 0.001*\"nice\" + 0.001*\"clean\" + 0.001*\"good\" + 0.001*\"service\" + 0.001*\"hotel\" + 0.001*\"location\" + 0.001*\"staff\" + 0.001*\"place\" + 0.001*\"definetely\"\n",
      "Topic: 8 Word: 0.001*\"great\" + 0.001*\"clean\" + 0.001*\"stay\" + 0.001*\"hotel\" + 0.001*\"staff\" + 0.001*\"place\" + 0.001*\"nice\" + 0.001*\"park\" + 0.001*\"friendly\" + 0.001*\"good\"\n",
      "Topic: 9 Word: 0.001*\"great\" + 0.001*\"good\" + 0.001*\"time\" + 0.001*\"nice\" + 0.001*\"location\" + 0.001*\"breakfast\" + 0.001*\"staff\" + 0.001*\"service\" + 0.001*\"clean\" + 0.001*\"hotel\"\n"
     ]
    }
   ],
   "source": [
    "#Running LDA using TF-IDF\n",
    "\n",
    "lda_model_tfidf = gensim.models.LdaMulticore(corpus_tfidf, num_topics=10, id2word=dictionary, passes=2, workers=4)\n",
    "for idx, topic in lda_model_tfidf.print_topics(-1):\n",
    "    print('Topic: {} Word: {}'.format(idx, topic))"
   ]
  },
  {
   "cell_type": "code",
   "execution_count": null,
   "metadata": {},
   "outputs": [],
   "source": []
  }
 ],
 "metadata": {
  "kernelspec": {
   "display_name": "Python 3",
   "language": "python",
   "name": "python3"
  },
  "language_info": {
   "codemirror_mode": {
    "name": "ipython",
    "version": 3
   },
   "file_extension": ".py",
   "mimetype": "text/x-python",
   "name": "python",
   "nbconvert_exporter": "python",
   "pygments_lexer": "ipython3",
   "version": "3.8.5"
  }
 },
 "nbformat": 4,
 "nbformat_minor": 4
}
